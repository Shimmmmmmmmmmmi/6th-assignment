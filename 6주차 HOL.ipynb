{
 "cells": [
  {
   "cell_type": "code",
   "execution_count": 1,
   "id": "b876ce93",
   "metadata": {},
   "outputs": [
    {
     "name": "stdout",
     "output_type": "stream",
     "text": [
      "***************\n",
      "***************\n",
      "***************\n",
      "***************\n",
      "***************\n",
      "***************\n"
     ]
    }
   ],
   "source": [
    "#4-1\n",
    "def print_star():\n",
    "    print('***************')\n",
    "    \n",
    "print_star()\n",
    "print_star()\n",
    "print_star()\n",
    "print_star()\n",
    "print_star()\n",
    "print_star()"
   ]
  },
  {
   "cell_type": "code",
   "execution_count": 2,
   "id": "7a7ff0fd",
   "metadata": {},
   "outputs": [
    {
     "name": "stdout",
     "output_type": "stream",
     "text": [
      "***************\n",
      "***************\n",
      "***************\n",
      "***************\n",
      "***************\n",
      "***************\n",
      "***************\n",
      "***************\n",
      "***************\n",
      "***************\n"
     ]
    }
   ],
   "source": [
    "#4-2\n",
    "def print_star5():\n",
    "    print('***************')\n",
    "    print('***************')\n",
    "    print('***************')\n",
    "    print('***************')\n",
    "    print('***************')\n",
    "    \n",
    "print_star5()\n",
    "print_star5()"
   ]
  },
  {
   "cell_type": "code",
   "execution_count": 3,
   "id": "fbec4b99",
   "metadata": {},
   "outputs": [
    {
     "name": "stdout",
     "output_type": "stream",
     "text": [
      "############\n",
      "************\n",
      "++++++++++++\n",
      "++++++++++++\n",
      "************\n",
      "############\n"
     ]
    }
   ],
   "source": [
    "#4-3\n",
    "def print_star():\n",
    "    print('************')\n",
    "def print_plus():\n",
    "    print('++++++++++++')\n",
    "def print_hash():\n",
    "    print('############')\n",
    "print_hash()\n",
    "print_star()\n",
    "print_plus()\n",
    "print_plus()\n",
    "print_star()\n",
    "print_hash()"
   ]
  },
  {
   "cell_type": "code",
   "execution_count": 9,
   "id": "a4a1df04",
   "metadata": {},
   "outputs": [
    {
     "name": "stdout",
     "output_type": "stream",
     "text": [
      "*************\n",
      "*************\n",
      "*************\n",
      "*************\n",
      "*************\n",
      "*************\n",
      "*************\n",
      "*************\n",
      "*************\n",
      "*************\n",
      "\n",
      "#############\n",
      "#############\n",
      "#############\n",
      "#############\n",
      "#############\n",
      "#############\n",
      "#############\n",
      "#############\n",
      "#############\n",
      "#############\n",
      "\n",
      "#############\n",
      "#############\n",
      "#############\n",
      "#############\n",
      "#############\n",
      "#############\n",
      "\n",
      "0 #############\n",
      "1 #############\n",
      "2 #############\n",
      "3 #############\n",
      "4 #############\n",
      "5 #############\n"
     ]
    }
   ],
   "source": [
    "#4-4.1\n",
    "def print_star(n):\n",
    "    for i in range(n):\n",
    "        print('*************')\n",
    "print_star(10)\n",
    "print()\n",
    "\n",
    "#4-4.2\n",
    "def print_hash(n):\n",
    "    for i in range(n):\n",
    "        print('#############')\n",
    "print_hash(10)\n",
    "print()\n",
    "\n",
    "#4-4.3\n",
    "print_hash(6)\n",
    "print()\n",
    "\n",
    "#4-4.4\n",
    "def print_hash2(n):\n",
    "    for i in range(n):\n",
    "        print(i,'#############')\n",
    "print_hash2(6)"
   ]
  },
  {
   "cell_type": "code",
   "execution_count": 5,
   "id": "e855ed02",
   "metadata": {},
   "outputs": [
    {
     "name": "stdout",
     "output_type": "stream",
     "text": [
      "10과 20의 차는 -10입니다.\n",
      "10과 20의 곱은 200입니다.\n"
     ]
    }
   ],
   "source": [
    "#4-5.1\n",
    "def print_sub(a,b):\n",
    "    sub=a-b\n",
    "    print('{}과 {}의 차는 {}입니다.'.format(a,b,sub))\n",
    "print_sub(10,20)\n",
    "\n",
    "#4-5.2\n",
    "def print_mult(a,b):\n",
    "    mult=a*b\n",
    "    print('{}과 {}의 곱은 {}입니다.'.format(a,b,mult))\n",
    "print_mult(10,20)    "
   ]
  },
  {
   "cell_type": "code",
   "execution_count": 16,
   "id": "203923bb",
   "metadata": {},
   "outputs": [
    {
     "name": "stdout",
     "output_type": "stream",
     "text": [
      "해는 3.0 또는 -7.0\n",
      "해는 4.0 또는 2.0\n",
      "밑변 10, 높이 20인 삼각형의 면적은 : 100.0\n"
     ]
    }
   ],
   "source": [
    "#4-6.1\n",
    "def print_root(a,b,c):\n",
    "    r1=(-b+(b**2-4*a*c)**0.5)/(2*a)\n",
    "    r2=(-b-(b**2-4*a*c)**0.5)/(2*a)\n",
    "    print('해는',r1,'또는',r2)\n",
    "print_root(1,4,-21)\n",
    "print_root(1,-6,8)\n",
    "\n",
    "#4-6.2\n",
    "def print_area(width,height):\n",
    "    area=width*height*(1/2)\n",
    "    print('밑변 {}, 높이 {}인 삼각형의 면적은 :'.format(width,height),area)\n",
    "print_area(10,20)"
   ]
  },
  {
   "cell_type": "code",
   "execution_count": 21,
   "id": "93602dfd",
   "metadata": {},
   "outputs": [
    {
     "name": "stdout",
     "output_type": "stream",
     "text": [
      "반지름이 10인 원의 면적은 314.0,원의 둘레는62.8\n"
     ]
    }
   ],
   "source": [
    "#4-7\n",
    "def circle_area_circum(radius):\n",
    "    a=3.14*radius*radius\n",
    "    c=3.14*2*radius\n",
    "    return(a,c)\n",
    "radius=10\n",
    "area,circum=circle_area_circum(10)\n",
    "print('반지름이 {}인 원의 면적은 {},원의 둘레는{:.1f}'.format(radius,area,circum))"
   ]
  },
  {
   "cell_type": "code",
   "execution_count": 15,
   "id": "cd4e35d2",
   "metadata": {},
   "outputs": [
    {
     "name": "stdout",
     "output_type": "stream",
     "text": [
      "3 6 9 12\n",
      "2 4 6 8 10\n"
     ]
    }
   ],
   "source": [
    "#4-8\n",
    "\n",
    "def multiples(n,m):\n",
    "    a=[]\n",
    "    for i in range(1,m+1):\n",
    "        k=n*i\n",
    "        a.append(k)\n",
    "    return(a)\n",
    "r1,r2,r3,r4=multiples(3,4)        \n",
    "print(r1,r2,r3,r4)        \n",
    "\n",
    "r1,r2,r3,r4,r5=multiples(2,5)\n",
    "print(r1,r2,r3,r4,r5)\n"
   ]
  },
  {
   "cell_type": "code",
   "execution_count": 19,
   "id": "341683cd",
   "metadata": {},
   "outputs": [
    {
     "name": "stdout",
     "output_type": "stream",
     "text": [
      "Dr. Gildong Hong\n",
      "Gildong Hong Dr.\n"
     ]
    }
   ],
   "source": [
    "#4-9\n",
    "def print_name(honorifics,first_name,last_name):\n",
    "    print(honorifics,first_name,last_name)\n",
    "    \n",
    "print_name(first_name='Gildong',last_name='Hong',honorifics='Dr.')\n",
    "print_name('Gildong','Hong','Dr.')"
   ]
  },
  {
   "cell_type": "code",
   "execution_count": 5,
   "id": "20749a37",
   "metadata": {},
   "outputs": [
    {
     "name": "stdout",
     "output_type": "stream",
     "text": [
      "3 개의 인자 (10, 20, 30)\n",
      "합계 : 60 평균 : 20.0\n",
      "5 개의 인자 (10, 20, 30, 40, 50)\n",
      "합계 : 150 평균 : 30.0\n",
      "최솟값은 10\n"
     ]
    }
   ],
   "source": [
    "#4-10.1\n",
    "def sum_nums(*numbers):\n",
    "    print(len(numbers),'개의 인자',numbers)\n",
    "    print('합계 :',sum(numbers),'평균 :',sum(numbers)/len(numbers))\n",
    "sum_nums(10,20,30)\n",
    "sum_nums(10,20,30,40,50)\n",
    "\n",
    "#4-10.2\n",
    "def min_nums(*numbers):\n",
    "    print('최솟값은',min(numbers))\n",
    "min_nums(20,40,50,10)"
   ]
  },
  {
   "cell_type": "code",
   "execution_count": 7,
   "id": "0be2c36f",
   "metadata": {},
   "outputs": [
    {
     "name": "stdout",
     "output_type": "stream",
     "text": [
      "당신의 이름을 입력해주세요 :김철수\n",
      "나이를 입력해주세요 :21\n",
      "직업을 입력해주세요 :학생\n",
      "사는 곳을 입력해 주세요 :창원시\n",
      "당신의 이름은 김철수,나이는 21,직업은 학생,사는 곳은 창원시입니다.\n",
      "당신의 이름은 김철수 나이는 21 직업은 학생 사는 곳은 창원시 입니다.\n"
     ]
    }
   ],
   "source": [
    "#4-11.a\n",
    "name=input('당신의 이름을 입력해주세요 :')\n",
    "age=input('나이를 입력해주세요 :')\n",
    "job=input('직업을 입력해주세요 :')\n",
    "adress=input('사는 곳을 입력해 주세요 :')\n",
    "print('당신의 이름은 {},나이는 {},직업은 {},사는 곳은 {}입니다.'.format(name,age,job,adress))\n",
    "\n",
    "#4-11.b\n",
    "print('당신의 이름은',name,'나이는',age,'직업은',job,'사는 곳은',adress,'입니다.')"
   ]
  },
  {
   "cell_type": "code",
   "execution_count": 13,
   "id": "1adf8230",
   "metadata": {},
   "outputs": [
    {
     "name": "stdout",
     "output_type": "stream",
     "text": [
      "My favorite thing is cartoons.\n"
     ]
    }
   ],
   "source": [
    "#4-12.1\n",
    "'_'.join('ABCD')\n",
    "\n",
    "#4-12.2\n",
    "s='My favorite thing is monsters.'\n",
    "t=s.replace('monsters','cartoons')\n",
    "print(t)"
   ]
  },
  {
   "cell_type": "code",
   "execution_count": null,
   "id": "6b76a98c",
   "metadata": {},
   "outputs": [],
   "source": []
  }
 ],
 "metadata": {
  "kernelspec": {
   "display_name": "Python 3 (ipykernel)",
   "language": "python",
   "name": "python3"
  },
  "language_info": {
   "codemirror_mode": {
    "name": "ipython",
    "version": 3
   },
   "file_extension": ".py",
   "mimetype": "text/x-python",
   "name": "python",
   "nbconvert_exporter": "python",
   "pygments_lexer": "ipython3",
   "version": "3.9.12"
  }
 },
 "nbformat": 4,
 "nbformat_minor": 5
}
