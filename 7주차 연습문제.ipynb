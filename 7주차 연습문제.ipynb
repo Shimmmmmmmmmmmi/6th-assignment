{
 "cells": [
  {
   "cell_type": "code",
   "execution_count": 1,
   "id": "3c2c35d3",
   "metadata": {},
   "outputs": [
    {
     "name": "stdout",
     "output_type": "stream",
     "text": [
      "로미오의 주사위 숫자는 2 입니다.\n",
      "줄리엣의 주사위 숫자는 2 입니다.\n",
      "로미오와 줄리엣이 비겼습니다.\n"
     ]
    }
   ],
   "source": [
    "#1 주사위 놀이\n",
    "import random as rd\n",
    "로미오_주사위=rd.randrange(1,7)\n",
    "줄리엣_주사위=rd.randrange(1,7)\n",
    "print('로미오의 주사위 숫자는 {} 입니다.'.format(로미오_주사위))\n",
    "print('줄리엣의 주사위 숫자는 {} 입니다.'.format(줄리엣_주사위))\n",
    "if 로미오_주사위>줄리엣_주사위:\n",
    "    print('로미오가 이겼습니다.')\n",
    "elif 로미오_주사위<줄리엣_주사위:\n",
    "    print('줄리엣이 이겼습니다.')\n",
    "else:\n",
    "    print('로미오와 줄리엣이 비겼습니다.')"
   ]
  },
  {
   "cell_type": "code",
   "execution_count": 7,
   "id": "6d0e20a3",
   "metadata": {},
   "outputs": [
    {
     "name": "stdout",
     "output_type": "stream",
     "text": [
      "1~20까지의 숫자를 입력하세요 :10\n",
      "10보다 작습니다!\n",
      "1~20까지의 숫자를 입력하세요 :6\n",
      "6보다 큽니다!\n",
      "1~20까지의 숫자를 입력하세요 :5\n",
      "5보다 큽니다!\n",
      "1~20까지의 숫자를 입력하세요 :8\n",
      "8보다 작습니다!\n",
      "1~20까지의 숫자를 입력하세요 :7\n",
      "5번째에 맞추셨네요. 잘했어요^^\n"
     ]
    }
   ],
   "source": [
    "#2 랜덤 숫자 맞추기 게임 프로그램\n",
    "import random as rd\n",
    "a=rd.randint(1,20)\n",
    "b=0\n",
    "i=0\n",
    "while a!=b:\n",
    "    i=i+1\n",
    "    b=int(input('1~20까지의 숫자를 입력하세요 :'))\n",
    "    if a>b:\n",
    "        print('{}보다 큽니다!'.format(b))\n",
    "    elif a<b:\n",
    "        print('{}보다 작습니다!'.format(b))\n",
    "    else:\n",
    "        if i>=3 and i<=6:\n",
    "            print(f'{i}번째에 맞추셨네요. 잘했어요^^')\n",
    "        elif i<3:\n",
    "            print(f'{i}번째에 맞춘 당신은 천재')\n",
    "        else:\n",
    "            print(f'{i}번만에 맞추다니 쩝쩝..')\n",
    "    "
   ]
  },
  {
   "cell_type": "code",
   "execution_count": 23,
   "id": "ae9d1a85",
   "metadata": {},
   "outputs": [
    {
     "name": "stdout",
     "output_type": "stream",
     "text": [
      "오늘은 2022년 10월 18일 입니다\n",
      "춘향이와 몽룡이의 연애 시작일 : 2019년 2월 24일\n",
      "연애 시작일로부터 경과한 날짜: 1332일\n",
      "100일 기념일: 2019년 6월 3일\n",
      "200일 기념일: 2019년 9월 11일\n",
      "500일 기념일: 2020년 7월 7일\n",
      "1000일 기념일: 2021년 11월 19일\n"
     ]
    }
   ],
   "source": [
    "#6\n",
    "import datetime as dt\n",
    "today=dt.date.today()\n",
    "print('오늘은 {}년 {}월 {}일 입니다'.format(today.year,today.month,today.day))\n",
    "\n",
    "start=dt.date(2019,2,24)\n",
    "print('춘향이와 몽룡이의 연애 시작일 : {}년 {}월 {}일'.format(start.year,start.month,start.day))\n",
    "gap=today-start\n",
    "print('연애 시작일로부터 경과한 날짜: {}일'.format(gap.days))\n",
    "_100=dt.timedelta(days=99)\n",
    "_200=dt.timedelta(days=199)\n",
    "_500=dt.timedelta(days=499)\n",
    "_1000=dt.timedelta(days=999)\n",
    "\n",
    "a=dt.date(2019,2,24)+_100\n",
    "b=dt.date(2019,2,24)+_200\n",
    "c=dt.date(2019,2,24)+_500\n",
    "d=dt.date(2019,2,24)+_1000\n",
    "\n",
    "print('100일 기념일: {}년 {}월 {}일'.format(a.year,a.month,a.day))\n",
    "print('200일 기념일: {}년 {}월 {}일'.format(b.year,b.month,b.day))\n",
    "print('500일 기념일: {}년 {}월 {}일'.format(c.year,c.month,c.day))\n",
    "print('1000일 기념일: {}년 {}월 {}일'.format(d.year,d.month,d.day))"
   ]
  },
  {
   "cell_type": "code",
   "execution_count": 36,
   "id": "57c109cd",
   "metadata": {},
   "outputs": [
    {
     "name": "stdout",
     "output_type": "stream",
     "text": [
      "1에서 1,000,000까지의 합을 100번 구하는 시간:     3.6505초\n"
     ]
    }
   ],
   "source": [
    "#7\n",
    "import time\n",
    "def sum1to1000000():\n",
    "    i=0\n",
    "    for i in range(1000000):\n",
    "        i=i+1\n",
    "start=time.time()\n",
    "for j in range(100):\n",
    "    sum1to1000000()\n",
    "        \n",
    "end=time.time()    \n",
    "gap=end-start\n",
    "print('1에서 1,000,000까지의 합을 100번 구하는 시간: {:10.4f}초'.format(gap) )"
   ]
  },
  {
   "cell_type": "code",
   "execution_count": 51,
   "id": "7a50ac87",
   "metadata": {},
   "outputs": [
    {
     "name": "stdout",
     "output_type": "stream",
     "text": [
      "1000!을 100번 반복해서 구하는 시간:     0.0249초\n",
      "\n",
      "1에서 1000까지의 홀수의 세제곱 더하기 결과: 124999750000\n",
      "1에서 1000까지의 홀수의 세제곱 더하기를 100번 반복하는 시간:     0.0081초\n",
      "\n",
      "1도에서 360도까지 sin값의 합: 5.6739471402033955e-15\n",
      "1도에서 360도까지 sin값의 더하기를 100번 반복하는 시간:     0.0080초\n"
     ]
    }
   ],
   "source": [
    "#8.1\n",
    "import time\n",
    "def fact():\n",
    "    i=1\n",
    "    for j in range(1,1001):\n",
    "        i=i*j\n",
    "start=time.time()\n",
    "for k in range(100):\n",
    "    fact()\n",
    "        \n",
    "end=time.time()    \n",
    "gap=end-start\n",
    "print('1000!을 100번 반복해서 구하는 시간: {:10.4f}초'.format(gap) )\n",
    "\n",
    "\n",
    "print()\n",
    "#8.2\n",
    "def 세제곱():\n",
    "    i=0\n",
    "    for j in range(1,1001,2):\n",
    "        i=i+j**3\n",
    "    return i\n",
    "\n",
    "print('1에서 1000까지의 홀수의 세제곱 더하기 결과:',세제곱())\n",
    "start=time.time()\n",
    "for k in range(100):\n",
    "    세제곱()\n",
    "        \n",
    "end=time.time()    \n",
    "gap=end-start\n",
    "print('1에서 1000까지의 홀수의 세제곱 더하기를 100번 반복하는 시간: {:10.4f}초'.format(gap) )\n",
    "\n",
    "print()\n",
    "#8.3\n",
    "import math as m\n",
    "def 사인의합():\n",
    "    l=0\n",
    "    for i in range(1,361):\n",
    "        b=m.sin(m.radians(i))\n",
    "        l=l+b\n",
    "    return l\n",
    "start=time.time()\n",
    "for k in range(100):\n",
    "    사인의합()\n",
    "        \n",
    "end=time.time()    \n",
    "gap=end-start\n",
    "print('1도에서 360도까지 sin값의 합:',사인의합())\n",
    "print('1도에서 360도까지 sin값의 더하기를 100번 반복하는 시간: {:10.4f}초'.format(gap) )"
   ]
  },
  {
   "cell_type": "code",
   "execution_count": 5,
   "id": "fef629f5",
   "metadata": {},
   "outputs": [
    {
     "name": "stdout",
     "output_type": "stream",
     "text": [
      "875482\n",
      "570045\n",
      "980359\n",
      "370545\n",
      "486437\n",
      "998854\n",
      "183444\n",
      "607711\n",
      "919818\n",
      "933340\n"
     ]
    }
   ],
   "source": [
    "#9\n",
    "import random as rd\n",
    "a=[]\n",
    "def myRand():\n",
    "    for i in range(10):\n",
    "        a.append(rd.randint(0,1000000))\n",
    "    for k in a:\n",
    "        print(k)\n",
    "myRand()\n",
    "    "
   ]
  },
  {
   "cell_type": "code",
   "execution_count": 12,
   "id": "f1d3aa22",
   "metadata": {},
   "outputs": [
    {
     "name": "stdout",
     "output_type": "stream",
     "text": [
      "sin  0 =      0.000, cos  0 =      1.000, tan  0 =      0.000\n",
      "sin 10 =      0.174, cos 10 =      0.985, tan 10 =      0.176\n",
      "sin 20 =      0.342, cos 20 =      0.940, tan 20 =      0.364\n",
      "sin 30 =      0.500, cos 30 =      0.866, tan 30 =      0.577\n",
      "sin 40 =      0.643, cos 40 =      0.766, tan 40 =      0.839\n",
      "sin 50 =      0.766, cos 50 =      0.643, tan 50 =      1.192\n",
      "sin 60 =      0.866, cos 60 =      0.500, tan 60 =      1.732\n",
      "sin 70 =      0.940, cos 70 =      0.342, tan 70 =      2.747\n",
      "sin 80 =      0.985, cos 80 =      0.174, tan 80 =      5.671\n",
      "sin 90 =      1.000, cos 90 =      0.000, tan 90 = 16331239353195370.000\n",
      "sin100 =      0.985, cos100 =     -0.174, tan100 =     -5.671\n",
      "sin110 =      0.940, cos110 =     -0.342, tan110 =     -2.747\n",
      "sin120 =      0.866, cos120 =     -0.500, tan120 =     -1.732\n",
      "sin130 =      0.766, cos130 =     -0.643, tan130 =     -1.192\n",
      "sin140 =      0.643, cos140 =     -0.766, tan140 =     -0.839\n",
      "sin150 =      0.500, cos150 =     -0.866, tan150 =     -0.577\n",
      "sin160 =      0.342, cos160 =     -0.940, tan160 =     -0.364\n",
      "sin170 =      0.174, cos170 =     -0.985, tan170 =     -0.176\n",
      "sin180 =      0.000, cos180 =     -1.000, tan180 =     -0.000\n"
     ]
    }
   ],
   "source": [
    "#10\n",
    "import math as m\n",
    "for i in range(0,181,10):\n",
    "    print('sin{:3d} = {:10.3f}, cos{:3d} = {:10.3f}, tan{:3d} = {:10.3f}'.format(i,m.sin(m.radians(i)),i,m.cos(m.radians(i)),i,m.tan(m.radians(i))))\n",
    "    "
   ]
  },
  {
   "cell_type": "code",
   "execution_count": null,
   "id": "8c984a9a",
   "metadata": {},
   "outputs": [],
   "source": []
  },
  {
   "cell_type": "code",
   "execution_count": null,
   "id": "d6fc20ee",
   "metadata": {},
   "outputs": [],
   "source": []
  }
 ],
 "metadata": {
  "kernelspec": {
   "display_name": "Python 3 (ipykernel)",
   "language": "python",
   "name": "python3"
  },
  "language_info": {
   "codemirror_mode": {
    "name": "ipython",
    "version": 3
   },
   "file_extension": ".py",
   "mimetype": "text/x-python",
   "name": "python",
   "nbconvert_exporter": "python",
   "pygments_lexer": "ipython3",
   "version": "3.9.12"
  }
 },
 "nbformat": 4,
 "nbformat_minor": 5
}
