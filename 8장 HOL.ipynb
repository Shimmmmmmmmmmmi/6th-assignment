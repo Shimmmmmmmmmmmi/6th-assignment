{
 "cells": [
  {
   "cell_type": "code",
   "execution_count": 3,
   "id": "6309f8ca",
   "metadata": {},
   "outputs": [
    {
     "name": "stdout",
     "output_type": "stream",
     "text": [
      "desserts"
     ]
    }
   ],
   "source": [
    "str=\"stressed\"\n",
    "a=list(str)\n",
    "new_list=[]\n",
    "for i in range(len(a)):\n",
    "    new_list.append(a.pop())\n",
    "\n",
    "for j in new_list:\n",
    "    print(j,end=\"\")"
   ]
  },
  {
   "cell_type": "code",
   "execution_count": 5,
   "id": "7da8e9b8",
   "metadata": {},
   "outputs": [
    {
     "name": "stdout",
     "output_type": "stream",
     "text": [
      "두수 :10 0\n"
     ]
    },
    {
     "ename": "ZeroDivisionError",
     "evalue": "division by zero",
     "output_type": "error",
     "traceback": [
      "\u001b[1;31m---------------------------------------------------------------------------\u001b[0m",
      "\u001b[1;31mZeroDivisionError\u001b[0m                         Traceback (most recent call last)",
      "Input \u001b[1;32mIn [5]\u001b[0m, in \u001b[0;36m<cell line: 2>\u001b[1;34m()\u001b[0m\n\u001b[0;32m      1\u001b[0m a,b\u001b[38;5;241m=\u001b[39m\u001b[38;5;28minput\u001b[39m(\u001b[38;5;124m'\u001b[39m\u001b[38;5;124m두수 :\u001b[39m\u001b[38;5;124m'\u001b[39m)\u001b[38;5;241m.\u001b[39msplit(\u001b[38;5;124m\"\u001b[39m\u001b[38;5;124m \u001b[39m\u001b[38;5;124m\"\u001b[39m)\n\u001b[1;32m----> 2\u001b[0m result\u001b[38;5;241m=\u001b[39m\u001b[38;5;28;43mint\u001b[39;49m\u001b[43m(\u001b[49m\u001b[43ma\u001b[49m\u001b[43m)\u001b[49m\u001b[38;5;241;43m/\u001b[39;49m\u001b[38;5;28;43mint\u001b[39;49m\u001b[43m(\u001b[49m\u001b[43mb\u001b[49m\u001b[43m)\u001b[49m\n",
      "\u001b[1;31mZeroDivisionError\u001b[0m: division by zero"
     ]
    }
   ],
   "source": [
    "a,b=input('두수 :').split(\" \")\n",
    "result=int(a)/int(b)"
   ]
  },
  {
   "cell_type": "code",
   "execution_count": 9,
   "id": "8e4a9e94",
   "metadata": {},
   "outputs": [
    {
     "name": "stdout",
     "output_type": "stream",
     "text": [
      "두수 :50 2\n",
      "50/2 = 25.0\n"
     ]
    }
   ],
   "source": [
    "try:\n",
    "    a,b=input('두수 :').split(\" \")\n",
    "    result=int(a)/int(b)\n",
    "    print('{}/{} = {}'.format(a,b,result))\n",
    "except:\n",
    "    print('수가 정확한지 확인하세요.')"
   ]
  },
  {
   "cell_type": "code",
   "execution_count": 11,
   "id": "98245bdf",
   "metadata": {},
   "outputs": [
    {
     "name": "stdout",
     "output_type": "stream",
     "text": [
      "error: unsupported operand type(s) for +: 'int' and 'str'\n"
     ]
    }
   ],
   "source": [
    "try:\n",
    "    b=2/0\n",
    "    a=1+'hundred'\n",
    "except Exception as e:\n",
    "    print('error:',e)"
   ]
  },
  {
   "cell_type": "code",
   "execution_count": 14,
   "id": "615f3d34",
   "metadata": {},
   "outputs": [
    {
     "name": "stdout",
     "output_type": "stream",
     "text": [
      "error: list index out of range\n",
      "error: invalid literal for int() with base 10: '20%'\n",
      "error: unsupported operand type(s) for +: 'int' and 'str'\n"
     ]
    }
   ],
   "source": [
    "#Lap 8-1\n",
    "try:\n",
    "    a=[10,20,30]\n",
    "    a[3]\n",
    "except Exception as e:\n",
    "    print('error:',e)\n",
    "\n",
    "try:\n",
    "    n=int('20%')\n",
    "except Exception as e:\n",
    "    print('error:',e)\n",
    "    \n",
    "try:\n",
    "   a=100+'200'\n",
    "except Exception as e:\n",
    "    print('error:',e)"
   ]
  },
  {
   "cell_type": "code",
   "execution_count": 16,
   "id": "115dc28a",
   "metadata": {},
   "outputs": [
    {
     "name": "stdout",
     "output_type": "stream",
     "text": [
      "지원되지 않는 연산자를 사용하는 오류\n",
      "0으로 나누는 오류\n"
     ]
    }
   ],
   "source": [
    "try:\n",
    "   \n",
    "    a=1+'hundred'\n",
    "except ZeroDivisionError:\n",
    "    print('0으로 나누는 오류')\n",
    "except TypeError:\n",
    "    print('지원되지 않는 연산자를 사용하는 오류')\n",
    "    \n",
    "try:\n",
    "   \n",
    "     b=2/0\n",
    "except ZeroDivisionError:\n",
    "    print('0으로 나누는 오류')\n",
    "except TypeError:\n",
    "    print('지원되지 않는 연산자를 사용하는 오류')"
   ]
  },
  {
   "cell_type": "code",
   "execution_count": 20,
   "id": "e909efef",
   "metadata": {},
   "outputs": [
    {
     "name": "stdout",
     "output_type": "stream",
     "text": [
      "두수 :10 2\n",
      "10/2 = 5.0\n"
     ]
    }
   ],
   "source": [
    "try:\n",
    "    a,b=input('두수 :').split(\" \")\n",
    "    result=int(a)/int(b)\n",
    "    \n",
    "except ZeroDivisionError:\n",
    "    print('오류:0으로 나눔을 시도했습니다.')\n",
    "except ValueError:\n",
    "    print('오류:입력 값이 정수나 실수가 아닙니다.')\n",
    "    \n",
    "except:\n",
    "    print('오류: 10 2와 같이 두 정수를 입력하세요.')\n",
    "else:\n",
    "    print('{}/{} = {}'.format(a,b,result))\n",
    "    "
   ]
  },
  {
   "cell_type": "code",
   "execution_count": 23,
   "id": "9d329620",
   "metadata": {},
   "outputs": [
    {
     "name": "stdout",
     "output_type": "stream",
     "text": [
      "오류: division by zero\n",
      "정수 x를 입력하세요:dks\n",
      "오류: invalid literal for int() with base 10: 'dks'\n",
      "오류: [Errno 2] No such file or directory: 'myfile.txt'\n"
     ]
    }
   ],
   "source": [
    "#LAP 8-2\n",
    "try:\n",
    "    10*(30/0)\n",
    "except Exception as e:\n",
    "    print('오류:',e)\n",
    "    \n",
    "try:\n",
    "    x=int(input('정수 x를 입력하세요:'))\n",
    "except Exception as e:\n",
    "    print('오류:',e)\n",
    "    \n",
    "    \n",
    "try:\n",
    "    import sys\n",
    "    f=open('myfile.txt')\n",
    "    s=f.readline()\n",
    "except Exception as e:\n",
    "    print('오류:',e)"
   ]
  },
  {
   "cell_type": "code",
   "execution_count": 26,
   "id": "d350483f",
   "metadata": {},
   "outputs": [
    {
     "name": "stdout",
     "output_type": "stream",
     "text": [
      "divide(100,2) 함수호출:\n",
      "결과: 50.0\n",
      "수행완료\n",
      "divide(100,0) 함수호출:\n",
      "0으로 나누는 오류발생\n",
      "수행완료\n"
     ]
    }
   ],
   "source": [
    "def divide(x,y):\n",
    "    try:\n",
    "        result=x/y\n",
    "    except ZeroDivisionError:\n",
    "        print('0으로 나누는 오류발생')\n",
    "    else:\n",
    "        print('결과:',result)\n",
    "    finally:\n",
    "        print('수행완료')\n",
    "print('divide(100,2) 함수호출:')\n",
    "divide(100,2)\n",
    "print('divide(100,0) 함수호출:')\n",
    "divide(100,0)"
   ]
  },
  {
   "cell_type": "code",
   "execution_count": 37,
   "id": "2a55eafe",
   "metadata": {},
   "outputs": [
    {
     "name": "stdout",
     "output_type": "stream",
     "text": [
      "a= [1, 2, 3, 4, 5]\n",
      "a의 요소를 하나 선택하시오 :5\n",
      "5은(는) 5번째 요소입니다.\n"
     ]
    }
   ],
   "source": [
    "#LAP 8-3\n",
    "try:\n",
    "    a=[1,2,3,4,5]\n",
    "    print('a=',a)\n",
    "    b=int(input('a의 요소를 하나 선택하시오 :'))\n",
    "\n",
    "\n",
    "except ValueError:\n",
    "    print('오류 : 입력 값이 정수나 실수가 아님')\n",
    "else:\n",
    "    print('{}은(는) {}번째 요소입니다.'.format(b,a.index(b)+1))\n",
    "    "
   ]
  },
  {
   "cell_type": "code",
   "execution_count": 36,
   "id": "5f8fdfb8",
   "metadata": {},
   "outputs": [
    {
     "name": "stdout",
     "output_type": "stream",
     "text": [
      "예/아니오 중 하나를 입력하세요:아니용\n",
      "erreor : 입력을 확인하세요.\n",
      "예/아니오 중 하나를 입력하세요:예\n",
      "정상적인 입력입니다.\n"
     ]
    }
   ],
   "source": [
    "def get_ans(ans):\n",
    "    if ans in ['예','아니오']:\n",
    "        print('정상적인 입력입니다.')\n",
    "    else:\n",
    "        raise ValueError('입력을 확인하세요.')\n",
    "while True:\n",
    "    try:\n",
    "        ans=input('예/아니오 중 하나를 입력하세요:')\n",
    "        get_ans(ans)\n",
    "        break\n",
    "    except Exception as e:\n",
    "        print('erreor :',e)"
   ]
  },
  {
   "cell_type": "code",
   "execution_count": 38,
   "id": "82744016",
   "metadata": {},
   "outputs": [],
   "source": [
    "#LAP 8-4.1\n",
    "f=open('numbers.txt','w')\n",
    "f.write('100\\n200\\n300\\n400')\n",
    "f.close()"
   ]
  },
  {
   "cell_type": "code",
   "execution_count": 42,
   "id": "240c7b08",
   "metadata": {},
   "outputs": [],
   "source": [
    "f=open('hello.txt','w')\n",
    "f.write('Hello World')\n",
    "f.close()"
   ]
  },
  {
   "cell_type": "code",
   "execution_count": 56,
   "id": "aef3ab84",
   "metadata": {},
   "outputs": [],
   "source": [
    "#LAP 8-4.2\n",
    "f=open('we_will_rock.txt','w')\n",
    "f.write(\"\"\"Buddy, yor're a boy, make a big noise\\nPlaying in the street, gonna be a big man someday\\nYou got mud on your face, you big disgrace\\nKicking your can all oveer the place, singing'\\nWe will, we will rock you\\nWe will,we will rock you\"\"\")\n",
    "f.close()"
   ]
  },
  {
   "cell_type": "code",
   "execution_count": 43,
   "id": "eb8a8125",
   "metadata": {},
   "outputs": [
    {
     "name": "stdout",
     "output_type": "stream",
     "text": [
      "Hello World\n"
     ]
    }
   ],
   "source": [
    "f=open('hello.txt','r')\n",
    "s=f.read()\n",
    "print(s)\n",
    "f.close()"
   ]
  },
  {
   "cell_type": "code",
   "execution_count": 45,
   "id": "3a0673e2",
   "metadata": {},
   "outputs": [],
   "source": [
    "f=open('foo.txt','w')\n",
    "f.write('AAA\\nBBB\\nCCC')\n",
    "f.close()"
   ]
  },
  {
   "cell_type": "code",
   "execution_count": 46,
   "id": "a2927705",
   "metadata": {},
   "outputs": [
    {
     "name": "stdout",
     "output_type": "stream",
     "text": [
      "AAA\n",
      "BBB\n"
     ]
    }
   ],
   "source": [
    "f=open('foo.txt','r')\n",
    "s=f.readline()\n",
    "print(s,end=\"\")\n",
    "s=f.readline()\n",
    "print(s,end=\"\")\n",
    "f.close()"
   ]
  },
  {
   "cell_type": "code",
   "execution_count": 47,
   "id": "a25860e4",
   "metadata": {},
   "outputs": [
    {
     "name": "stdout",
     "output_type": "stream",
     "text": [
      "AAA\n",
      "BBB\n"
     ]
    }
   ],
   "source": [
    "f=open('foo.txt','r')\n",
    "s=f.readline().rstrip()\n",
    "print(s)\n",
    "s=f.readline().rstrip()\n",
    "print(s)\n",
    "f.close()"
   ]
  },
  {
   "cell_type": "code",
   "execution_count": 57,
   "id": "53eb2542",
   "metadata": {},
   "outputs": [
    {
     "name": "stdout",
     "output_type": "stream",
     "text": [
      "100\n",
      "200\n",
      "300\n",
      "400\n",
      "\n",
      "Buddy, yor're a boy, make a big noise\n",
      "Playing in the street, gonna be a big man someday\n",
      "You got mud on your face, you big disgrace\n",
      "Kicking your can all oveer the place, singing'\n",
      "We will, we will rock you\n",
      "We will,we will rock you\n"
     ]
    }
   ],
   "source": [
    "#LAP 8-5.1\n",
    "f=open('numbers.txt','r')\n",
    "s=f.readline().rstrip()\n",
    "print(s)\n",
    "s=f.readline().rstrip()\n",
    "print(s)\n",
    "s=f.readline().rstrip()\n",
    "print(s)\n",
    "s=f.readline().rstrip()\n",
    "print(s)\n",
    "f.close()\n",
    "\n",
    "print()\n",
    "#LAP 8-5.2\n",
    "f=open('we_will_rock.txt','r')\n",
    "s=f.readline().rstrip()\n",
    "print(s)\n",
    "s=f.readline().rstrip()\n",
    "print(s)\n",
    "s=f.readline().rstrip()\n",
    "print(s)\n",
    "s=f.readline().rstrip()\n",
    "print(s)\n",
    "s=f.readline().rstrip()\n",
    "print(s)\n",
    "s=f.readline().rstrip()\n",
    "print(s)"
   ]
  },
  {
   "cell_type": "code",
   "execution_count": 59,
   "id": "ea1c6f24",
   "metadata": {},
   "outputs": [
    {
     "name": "stdout",
     "output_type": "stream",
     "text": [
      "정수 입력:10\n",
      "정수 입력:20\n",
      "정수 입력:30\n",
      "정수 입력:40\n",
      "정수 입력:50\n"
     ]
    }
   ],
   "source": [
    "f=open('data5.txt','w')\n",
    "for i in range(5):\n",
    "    n=input('정수 입력:')\n",
    "    f.write(n)\n",
    "    f.write('\\n')\n",
    "f.close()"
   ]
  },
  {
   "cell_type": "code",
   "execution_count": 60,
   "id": "0293f3e5",
   "metadata": {},
   "outputs": [
    {
     "name": "stdout",
     "output_type": "stream",
     "text": [
      "다섯 숫자의 합 = 150,평균 = 30.0\n"
     ]
    }
   ],
   "source": [
    "f=open('data5.txt','r')\n",
    "s=0\n",
    "for i in range(5):\n",
    "    k=int(f.readline())\n",
    "    s=s+k\n",
    "print('다섯 숫자의 합 = {},평균 = {}'.format(s,s/5))\n"
   ]
  },
  {
   "cell_type": "code",
   "execution_count": 61,
   "id": "028dfdf8",
   "metadata": {},
   "outputs": [
    {
     "name": "stdout",
     "output_type": "stream",
     "text": [
      "입력할 파일의 이름:we_will_rock.txt\n",
      "  1:Buddy, yor're a boy, make a big noise\n",
      "  2:Playing in the street, gonna be a big man someday\n",
      "  3:You got mud on your face, you big disgrace\n",
      "  4:Kicking your can all oveer the place, singing'\n",
      "  5:We will, we will rock you\n",
      "  6:We will,we will rock you"
     ]
    }
   ],
   "source": [
    "fname=input('입력할 파일의 이름:')\n",
    "f=open(fname,'r')\n",
    "n=1\n",
    "l=f.readline()\n",
    "while l:\n",
    "    print('{:3d}:{}'.format(n,l),end='')\n",
    "    n=n+1\n",
    "    l=f.readline()"
   ]
  },
  {
   "cell_type": "code",
   "execution_count": null,
   "id": "7c2144d3",
   "metadata": {},
   "outputs": [],
   "source": []
  },
  {
   "cell_type": "code",
   "execution_count": 48,
   "id": "8004c0f8",
   "metadata": {},
   "outputs": [],
   "source": [
    "f=open('foo.txt','a+')\n",
    "f.write('This will be appended.\\n')\n",
    "f.write('This too.\\n')\n",
    "f.close()"
   ]
  },
  {
   "cell_type": "code",
   "execution_count": 63,
   "id": "e42839f5",
   "metadata": {},
   "outputs": [
    {
     "name": "stdout",
     "output_type": "stream",
     "text": [
      "입력할 파일의 이름:we_will_rock.txt\n",
      "BUDDY, YOR'RE A BOY, MAKE A BIG NOISE\n",
      "\n",
      "PLAYING IN THE STREET, GONNA BE A BIG MAN SOMEDAY\n",
      "\n",
      "YOU GOT MUD ON YOUR FACE, YOU BIG DISGRACE\n",
      "\n",
      "KICKING YOUR CAN ALL OVEER THE PLACE, SINGING'\n",
      "\n",
      "WE WILL, WE WILL ROCK YOU\n",
      "\n",
      "WE WILL,WE WILL ROCK YOU\n"
     ]
    }
   ],
   "source": [
    "#LAP 8-6.1\n",
    "fname=input('입력할 파일의 이름:')\n",
    "f=open(fname,'r')\n",
    "l=f.readline()\n",
    "while l:\n",
    "    print(l.upper())\n",
    "    l=f.readline()\n",
    "f.close()    \n"
   ]
  },
  {
   "cell_type": "code",
   "execution_count": 66,
   "id": "898ca998",
   "metadata": {},
   "outputs": [
    {
     "name": "stdout",
     "output_type": "stream",
     "text": [
      "입력할 파일의 이름:we_will_rock.txt\n",
      "We will,we will rock you\n",
      "We will, we will rock you\n",
      "\n",
      "Kicking your can all oveer the place, singing'\n",
      "\n",
      "You got mud on your face, you big disgrace\n",
      "\n",
      "Playing in the street, gonna be a big man someday\n",
      "\n",
      "Buddy, yor're a boy, make a big noise\n",
      "\n"
     ]
    }
   ],
   "source": [
    "#LAP 8-6.2\n",
    "fname=input('입력할 파일의 이름:')\n",
    "f=open(fname,'r')\n",
    "l=f.readline()\n",
    "new_f=[]\n",
    "while l:\n",
    "    new_f.append(l)\n",
    "    l=f.readline()\n",
    "n_f=[]    \n",
    "for i in range(len(new_f)):\n",
    "    n_f.append(new_f.pop())\n",
    "for j in n_f:\n",
    "    print(j)\n",
    "f.close()    "
   ]
  },
  {
   "cell_type": "code",
   "execution_count": null,
   "id": "fc516321",
   "metadata": {},
   "outputs": [],
   "source": [
    "\n"
   ]
  }
 ],
 "metadata": {
  "kernelspec": {
   "display_name": "Python 3 (ipykernel)",
   "language": "python",
   "name": "python3"
  },
  "language_info": {
   "codemirror_mode": {
    "name": "ipython",
    "version": 3
   },
   "file_extension": ".py",
   "mimetype": "text/x-python",
   "name": "python",
   "nbconvert_exporter": "python",
   "pygments_lexer": "ipython3",
   "version": "3.9.12"
  }
 },
 "nbformat": 4,
 "nbformat_minor": 5
}
