{
 "cells": [
  {
   "cell_type": "code",
   "execution_count": 1,
   "id": "e8772858",
   "metadata": {},
   "outputs": [
    {
     "name": "stdout",
     "output_type": "stream",
     "text": [
      "환영합니다.\n",
      "환영합니다.\n"
     ]
    }
   ],
   "source": [
    "#4-1\n",
    "def my_greet():\n",
    "    print('환영합니다.')\n",
    "my_greet()\n",
    "my_greet()"
   ]
  },
  {
   "cell_type": "code",
   "execution_count": 2,
   "id": "eddaaa78",
   "metadata": {},
   "outputs": [
    {
     "name": "stdout",
     "output_type": "stream",
     "text": [
      "3의 제곱은 : 9\n",
      "4의 제곱은 : 16\n"
     ]
    }
   ],
   "source": [
    "#4-2\n",
    "def square(n):\n",
    "    return n**2\n",
    "print('3의 제곱은 :',square(3))\n",
    "print('4의 제곱은 :',square(4))"
   ]
  },
  {
   "cell_type": "code",
   "execution_count": 3,
   "id": "a669a9b9",
   "metadata": {},
   "outputs": [
    {
     "name": "stdout",
     "output_type": "stream",
     "text": [
      "100과 200중 큰 수는 : 200\n",
      "100과 200중 작은 수는 : 100\n"
     ]
    }
   ],
   "source": [
    "#4-3\n",
    "def max2(m,n):\n",
    "    if m>n:\n",
    "        return m\n",
    "    else:\n",
    "        return n\n",
    "def min2(m,n):\n",
    "    if m>n:\n",
    "        return n\n",
    "    else:\n",
    "        return m\n",
    "print('100과 200중 큰 수는 :',max2(100,200))\n",
    "print('100과 200중 작은 수는 :',min2(100,200))"
   ]
  },
  {
   "cell_type": "code",
   "execution_count": 5,
   "id": "996cbf71",
   "metadata": {},
   "outputs": [
    {
     "name": "stdout",
     "output_type": "stream",
     "text": [
      "1 마일 = 1.61 킬로미터\n",
      "2 마일 = 3.22 킬로미터\n",
      "3 마일 = 4.83 킬로미터\n",
      "4 마일 = 6.44 킬로미터\n",
      "5 마일 = 8.05 킬로미터\n"
     ]
    }
   ],
   "source": [
    "#4-4\n",
    "def mile2km(m):\n",
    "    return m*1.61\n",
    "for i in range(1,6):\n",
    "    print(i,'마일 =',mile2km(i),'킬로미터')"
   ]
  },
  {
   "cell_type": "code",
   "execution_count": 6,
   "id": "728a9e52",
   "metadata": {},
   "outputs": [
    {
     "name": "stdout",
     "output_type": "stream",
     "text": [
      "1 인치 = 2.54 센티미터\n",
      "2 인치 = 5.08 센티미터\n",
      "3 인치 = 7.62 센티미터\n",
      "4 인치 = 10.16 센티미터\n",
      "5 인치 = 12.7 센티미터\n"
     ]
    }
   ],
   "source": [
    "#4-5\n",
    "def inch2cm(inch):\n",
    "    return inch*2.54\n",
    "for i in range(1,6):\n",
    "    print(i,'인치 =',inch2cm(i),'센티미터')"
   ]
  },
  {
   "cell_type": "code",
   "execution_count": 7,
   "id": "29819d99",
   "metadata": {},
   "outputs": [
    {
     "name": "stdout",
     "output_type": "stream",
     "text": [
      "섭씨 10 도 = 화씨 50.0 도\n",
      "섭씨 20 도 = 화씨 68.0 도\n",
      "섭씨 30 도 = 화씨 86.0 도\n",
      "섭씨 40 도 = 화씨 104.0 도\n",
      "섭씨 50 도 = 화씨 122.0 도\n"
     ]
    }
   ],
   "source": [
    "#4-6\n",
    "def cel2fah(cel):\n",
    "    return (9/5)*cel+32\n",
    "for i in range(10,51,10):\n",
    "    print('섭씨',i,'도 = 화씨',cel2fah(i),'도')\n"
   ]
  },
  {
   "cell_type": "code",
   "execution_count": 17,
   "id": "cd0e3539",
   "metadata": {},
   "outputs": [
    {
     "name": "stdout",
     "output_type": "stream",
     "text": [
      "세 수를 입력하시오 :10 20 30\n",
      "10,20,30의 평균값은 : 20.0\n",
      "10,20,30의 최댓값은 : 30\n",
      "10,20,30의 최솟값은 : 10\n"
     ]
    }
   ],
   "source": [
    "#4-7\n",
    "list_=list(map(int,input('세 수를 입력하시오 :').split( )))\n",
    "a,b,c=list_\n",
    "def mean3(a,b,c):\n",
    "    s=0\n",
    "    for i in list_:\n",
    "        s=s+i\n",
    "    return s/len(list_)\n",
    "  \n",
    "def max3(a,b,c):\n",
    "    list2=sorted(list_)\n",
    "    return list2[2]\n",
    "      \n",
    "def min3(a,b,c):\n",
    "    list3=sorted(list_)\n",
    "    return list3[0]\n",
    "print('10,20,30의 평균값은 :',mean3(a,b,c))\n",
    "print('10,20,30의 최댓값은 :',max3(a,b,c))\n",
    "print('10,20,30의 최솟값은 :',min3(a,b,c))"
   ]
  },
  {
   "cell_type": "code",
   "execution_count": 19,
   "id": "7ef3fea0",
   "metadata": {},
   "outputs": [
    {
     "name": "stdout",
     "output_type": "stream",
     "text": [
      "여섯 개의 수를 입력하시오 :100 20 30 45 260 370\n",
      "평균값은 : 137.5\n",
      "최댓값은 : 370\n",
      "최솟값은 : 20\n"
     ]
    }
   ],
   "source": [
    "#4-8\n",
    "list_=list(map(int,input('여섯 개의 수를 입력하시오 :').split( )))\n",
    "a,b,c,d,e,f=list_\n",
    "def mean6(a,b,c,d,e,f):\n",
    "    s=0\n",
    "    for i in list_:\n",
    "        s=s+i\n",
    "    return s/len(list_)\n",
    "  \n",
    "def max6(a,b,c,d,e,f):\n",
    "    list2=sorted(list_)\n",
    "    return list2[5]\n",
    "      \n",
    "def min6(a,b,c,d,e,f):\n",
    "    list3=sorted(list_)\n",
    "    return list3[0]\n",
    "print('평균값은 :',mean6(a,b,c,d,e,f))\n",
    "print('최댓값은 :',max6(a,b,c,d,e,f))\n",
    "print('최솟값은 :',min6(a,b,c,d,e,f))"
   ]
  },
  {
   "cell_type": "code",
   "execution_count": 24,
   "id": "0cbaa259",
   "metadata": {},
   "outputs": [
    {
     "name": "stdout",
     "output_type": "stream",
     "text": [
      "정수를 여러 개 입력하시오 :3 45 32 5 7 8 4 44 5 90 17\n",
      "평균값은 :23.6\n",
      "최댓값은 : 90\n",
      "최솟값은 : 3\n"
     ]
    }
   ],
   "source": [
    "#4-9\n",
    "nums=list(map(int,input('정수를 여러 개 입력하시오 :').split( )))\n",
    "def mean_of_n(nums):\n",
    "    s=0\n",
    "    for i in nums:\n",
    "        s=s+i\n",
    "    return s/len(nums)\n",
    "  \n",
    "def max_of_n(nums):\n",
    "    list2=sorted(nums)\n",
    "    return list2[len(nums)-1]\n",
    "      \n",
    "def min_of_n(nums):\n",
    "    list3=sorted(nums)\n",
    "    return list3[0]\n",
    "print('평균값은 :{:.1f}'.format(mean_of_n(nums)))\n",
    "print('최댓값은 :',max_of_n(nums))\n",
    "print('최솟값은 :',min_of_n(nums))"
   ]
  },
  {
   "cell_type": "code",
   "execution_count": 25,
   "id": "01bf564c",
   "metadata": {},
   "outputs": [
    {
     "name": "stdout",
     "output_type": "stream",
     "text": [
      "x1 좌표를 입력하시오 :0\n",
      "y1 좌표를 입력하시오 :0\n",
      "x2 좌표를 입력하시오 :3\n",
      "y2 좌표를 입력하시오 :4\n",
      "두 점의 거리: 5.0\n"
     ]
    }
   ],
   "source": [
    "#4-10\n",
    "x1=int(input('x1 좌표를 입력하시오 :'))\n",
    "y1=int(input('y1 좌표를 입력하시오 :'))\n",
    "x2=int(input('x2 좌표를 입력하시오 :'))\n",
    "y2=int(input('y2 좌표를 입력하시오 :'))\n",
    "def distance(x1,y1,x2,y2):\n",
    "    dis=((y2-y1)**2+(x2-x1)**2)**0.5\n",
    "    return dis\n",
    "print('두 점의 거리:',distance(x1,y1,x2,y2))"
   ]
  },
  {
   "cell_type": "code",
   "execution_count": 26,
   "id": "b987bb35",
   "metadata": {},
   "outputs": [
    {
     "name": "stdout",
     "output_type": "stream",
     "text": [
      "x1 좌표를 입력하시오 :0\n",
      "y1 좌표를 입력하시오 :0\n",
      "x2 좌표를 입력하시오 :3\n",
      "y2 좌표를 입력하시오 :4\n",
      "직삼각형의 면적은 : 6.0\n"
     ]
    }
   ],
   "source": [
    "#4-1\n",
    "x1=int(input('x1 좌표를 입력하시오 :'))\n",
    "y1=int(input('y1 좌표를 입력하시오 :'))\n",
    "x2=int(input('x2 좌표를 입력하시오 :'))\n",
    "y2=int(input('y2 좌표를 입력하시오 :'))\n",
    "def area(x1,y1,x2,y2):\n",
    "    a=(x2-x1)*(y2-y1)*0.5\n",
    "    return a\n",
    "print('직삼각형의 면적은 :',area(x1,y1,x2,y2))"
   ]
  },
  {
   "cell_type": "code",
   "execution_count": 27,
   "id": "0f8e1ecd",
   "metadata": {},
   "outputs": [
    {
     "name": "stdout",
     "output_type": "stream",
     "text": [
      "밑변을 입력하시오:20\n",
      "높이를 입력하시오:15\n",
      "삼각형의 면적: 150.0\n"
     ]
    }
   ],
   "source": [
    "#4-12\n",
    "width=int(input('밑변을 입력하시오:'))\n",
    "height=int(input('높이를 입력하시오:'))\n",
    "def cal_area(width,height):\n",
    "    a=width*height*0.5\n",
    "    return a\n",
    "print('삼각형의 면적:',cal_area(width,height))"
   ]
  },
  {
   "cell_type": "code",
   "execution_count": 42,
   "id": "af4008a1",
   "metadata": {},
   "outputs": [
    {
     "name": "stdout",
     "output_type": "stream",
     "text": [
      "정육면체 부피는  : 144\n",
      "정육면체 부피는  : 400\n",
      "직육면체 부피는  : 90\n",
      "원뿔의 부피는    : 4186.7\n",
      "구의 부피는      : 14130.0\n",
      "원기둥의 부피는  : 12560.0\n"
     ]
    }
   ],
   "source": [
    "#4-13\n",
    "def 정육면체_부피(s):\n",
    "    a=s**2\n",
    "    return a\n",
    "def 직육면체_부피(w,h,l):\n",
    "    b=l*w*h\n",
    "    return b\n",
    "def 원뿔_부피(r,h):\n",
    "    c=(1/3)*3.14*(r**2)*h\n",
    "    return c\n",
    "def 구_부피(r):\n",
    "    d=(4/3)*3.14*r**3\n",
    "    return d\n",
    "def 원기둥_부피(r,h):\n",
    "    e=3.14*r**2*h\n",
    "    return e\n",
    "\n",
    "#4-13.1\n",
    "print('{:10s}:'.format('정육면체 부피는'),정육면체_부피(12))\n",
    "\n",
    "\n",
    "#4-13.2\n",
    "print('{:10s}:'.format('정육면체 부피는'),정육면체_부피(20))\n",
    "\n",
    "#4-13.3\n",
    "print('{:10s}:'.format('직육면체 부피는'),직육면체_부피(3,5,6))\n",
    "\n",
    "\n",
    "#4-13.4\n",
    "print('{:11s}:'.format('원뿔의 부피는'),'{:.1f}'.format(원뿔_부피(20,10)))\n",
    "\n",
    "\n",
    "#4-13.5\n",
    "print('{:12s}:'.format('구의 부피는'),구_부피(15))\n",
    "\n",
    "\n",
    "#4-13.6\n",
    "print('{:10s}:'.format('원기둥의 부피는'),원기둥_부피(20,10))"
   ]
  },
  {
   "cell_type": "code",
   "execution_count": 34,
   "id": "63105446",
   "metadata": {},
   "outputs": [
    {
     "ename": "SyntaxError",
     "evalue": "unexpected character after line continuation character (451545416.py, line 3)",
     "output_type": "error",
     "traceback": [
      "\u001b[1;36m  Input \u001b[1;32mIn [34]\u001b[1;36m\u001b[0m\n\u001b[1;33m    inputlist=inputStr.split(\\n)\u001b[0m\n\u001b[1;37m                              ^\u001b[0m\n\u001b[1;31mSyntaxError\u001b[0m\u001b[1;31m:\u001b[0m unexpected character after line continuation character\n"
     ]
    }
   ],
   "source": [
    "#4-14 모르겠어요..\n",
    "num1,num2,num3=list(map(int,input('세 수를 입력하세요:').split( )))\n",
    "def sort3(num1,num2,num3):\n",
    "    list_=[]\n",
    "    list_.append(num1,num2,num3)\n",
    "    list_.sort()\n",
    "    return list_[0],list_[1],list_[2]\n",
    "print('정렬된 리스트는 다음과 같습니다:',sort3(num1,num2,num3))"
   ]
  },
  {
   "cell_type": "code",
   "execution_count": 10,
   "id": "b9bc1479",
   "metadata": {},
   "outputs": [
    {
     "name": "stdout",
     "output_type": "stream",
     "text": [
      "결과 : [3, 4, 5, 45, 56]\n",
      "결과 : [3, 4, 5, 6, 7, 8, 9]\n"
     ]
    }
   ],
   "source": [
    "#4-15\n",
    "def my_sort(*nums):\n",
    "    list_=list(nums)\n",
    "    list_.sort()\n",
    "    return list_\n",
    "print('결과 :',my_sort(45,3,4,56,5))\n",
    "print('결과 :',my_sort(9,8,7,6,5,4,3))\n"
   ]
  },
  {
   "cell_type": "code",
   "execution_count": 33,
   "id": "a2c87833",
   "metadata": {},
   "outputs": [
    {
     "name": "stdout",
     "output_type": "stream",
     "text": [
      "쉼표로 구분된 정수를 여러개 입력하시오:56,67,89,34,24,300,99\n",
      "입력된 정수의 리스트: ['56', '67', '89', '34', '24', '300', '99']\n",
      "정렬된 정수의 리스트: 24 34 56 67 89 99 300 "
     ]
    }
   ],
   "source": [
    "#4-16\n",
    "inputStr=input('쉼표로 구분된 정수를 여러개 입력하시오:')\n",
    "inputlist=inputStr.split(',')\n",
    "list_=[]\n",
    "for i in inputlist:\n",
    "    a=int(i)\n",
    "    list_.append(a)\n",
    "    \n",
    "print('입력된 정수의 리스트:',inputlist)\n",
    "list_.sort()\n",
    "print('정렬된 정수의 리스트:',end=' ')\n",
    "for j in list_:\n",
    "    print(j,end=' ')\n"
   ]
  },
  {
   "cell_type": "code",
   "execution_count": 38,
   "id": "03cbfb0c",
   "metadata": {},
   "outputs": [
    {
     "name": "stdout",
     "output_type": "stream",
     "text": [
      "10에서 20까지의 정수의 합: 165\n",
      "40에서 100까지의 정수의 합: 4270\n"
     ]
    }
   ],
   "source": [
    "#4-17\n",
    "def sum_range(n1,n2):\n",
    "    s=0\n",
    "    for i in range(n1,n2+1):\n",
    "        s=s+i\n",
    "    return s\n",
    "a,b=10,20\n",
    "print('{}에서 {}까지의 정수의 합:'.format(a,b),'{}'.format(sum_range(a,b)))\n",
    "c,d=40,100\n",
    "print('{}에서 {}까지의 정수의 합:'.format(c,d),'{}'.format(sum_range(c,d)))"
   ]
  },
  {
   "cell_type": "code",
   "execution_count": 45,
   "id": "277cb4e9",
   "metadata": {},
   "outputs": [
    {
     "name": "stdout",
     "output_type": "stream",
     "text": [
      "fibo(n)의 n을 입력하세요:0\n",
      "fibo(0) = 1\n"
     ]
    }
   ],
   "source": [
    "#4-19\n",
    "def fibo(n):\n",
    "    a,b=0,1\n",
    "    for i in range(n+1):\n",
    "        a,b=b,a+b\n",
    "    return a\n",
    "n=int(input('fibo(n)의 n을 입력하세요:'))\n",
    "print('fibo({}) ='.format(n),fibo(n))\n",
    "    "
   ]
  },
  {
   "cell_type": "code",
   "execution_count": 47,
   "id": "6f689004",
   "metadata": {},
   "outputs": [
    {
     "name": "stdout",
     "output_type": "stream",
     "text": [
      "fibo(   0) =        1\n",
      "fibo(   1) =        1\n",
      "fibo(   2) =        2\n",
      "fibo(   3) =        3\n",
      "fibo(   4) =        5\n",
      "fibo(   5) =        8\n",
      "fibo(   6) =       13\n",
      "fibo(   7) =       21\n",
      "fibo(   8) =       34\n",
      "fibo(   9) =       55\n",
      "fibo(  10) =       89\n",
      "fibo(  11) =      144\n",
      "fibo(  12) =      233\n",
      "fibo(  13) =      377\n",
      "fibo(  14) =      610\n",
      "fibo(  15) =      987\n"
     ]
    }
   ],
   "source": [
    "#4-20\n",
    "def fibo(n):\n",
    "    a,b=0,1\n",
    "    for i in range(n+1):\n",
    "        a,b=b,a+b\n",
    "    return a\n",
    "\n",
    "for j in range(16):\n",
    "    print('fibo({:4d}) = {:8d}'.format(j,fibo(j)))"
   ]
  },
  {
   "cell_type": "code",
   "execution_count": 9,
   "id": "d960de70",
   "metadata": {},
   "outputs": [
    {
     "name": "stdout",
     "output_type": "stream",
     "text": [
      "주민등록번호 첫 6숫자 형식 입력:011123\n",
      "2001년 11월 23일\n"
     ]
    }
   ],
   "source": [
    "#4-21\n",
    "a=input('주민등록번호 첫 6숫자 형식 입력:')\n",
    "b=int(a[:2])\n",
    "if b>=50:\n",
    "    year=1900+b\n",
    "else:\n",
    "    year=2000+b\n",
    "month=int(a[2:4])\n",
    "day=int(a[4:])\n",
    "print('{}년 {}월 {}일'.format(year,month,day))    "
   ]
  },
  {
   "cell_type": "code",
   "execution_count": 6,
   "id": "62273688",
   "metadata": {},
   "outputs": [
    {
     "name": "stdout",
     "output_type": "stream",
     "text": [
      "반지름을 입력하시오:5\n",
      "넓이 :  78.500, 둘레 :  31.400\n",
      "반지름을 입력하시오:6\n",
      "넓이 : 113.040, 둘레 :  37.680\n",
      "반지름을 입력하시오:8\n",
      "넓이 : 200.960, 둘레 :  50.240\n",
      "반지름을 입력하시오:9\n",
      "넓이 : 254.340, 둘레 :  56.520\n",
      "반지름을 입력하시오:-1\n",
      "프로그램을 종료합니다.\n"
     ]
    }
   ],
   "source": [
    "#4-23\n",
    "\n",
    "def area_and_circumference(r):\n",
    "    area=3.14*r**2\n",
    "    circum=3.14*2*r\n",
    "    return area,circum\n",
    "r=1\n",
    "while r>0:\n",
    "    r=int(input('반지름을 입력하시오:'))\n",
    "    if r<0:\n",
    "        print('프로그램을 종료합니다.')\n",
    "        break\n",
    "        \n",
    "    a,c=area_and_circumference(r)\n",
    "    print('넓이 : {:7.3f}, 둘레 : {:7.3f}'.format(a,c))\n",
    "    \n",
    "    "
   ]
  }
 ],
 "metadata": {
  "kernelspec": {
   "display_name": "Python 3 (ipykernel)",
   "language": "python",
   "name": "python3"
  },
  "language_info": {
   "codemirror_mode": {
    "name": "ipython",
    "version": 3
   },
   "file_extension": ".py",
   "mimetype": "text/x-python",
   "name": "python",
   "nbconvert_exporter": "python",
   "pygments_lexer": "ipython3",
   "version": "3.9.12"
  }
 },
 "nbformat": 4,
 "nbformat_minor": 5
}
