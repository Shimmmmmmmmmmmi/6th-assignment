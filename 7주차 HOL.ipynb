{
 "cells": [
  {
   "cell_type": "code",
   "execution_count": 1,
   "id": "c9190285",
   "metadata": {},
   "outputs": [
    {
     "name": "stdout",
     "output_type": "stream",
     "text": [
      "The Zen of Python, by Tim Peters\n",
      "\n",
      "Beautiful is better than ugly.\n",
      "Explicit is better than implicit.\n",
      "Simple is better than complex.\n",
      "Complex is better than complicated.\n",
      "Flat is better than nested.\n",
      "Sparse is better than dense.\n",
      "Readability counts.\n",
      "Special cases aren't special enough to break the rules.\n",
      "Although practicality beats purity.\n",
      "Errors should never pass silently.\n",
      "Unless explicitly silenced.\n",
      "In the face of ambiguity, refuse the temptation to guess.\n",
      "There should be one-- and preferably only one --obvious way to do it.\n",
      "Although that way may not be obvious at first unless you're Dutch.\n",
      "Now is better than never.\n",
      "Although never is often better than *right* now.\n",
      "If the implementation is hard to explain, it's a bad idea.\n",
      "If the implementation is easy to explain, it may be a good idea.\n",
      "Namespaces are one honking great idea -- let's do more of those!\n"
     ]
    }
   ],
   "source": [
    "#\n",
    "import this   #파이썬의 철학"
   ]
  },
  {
   "cell_type": "code",
   "execution_count": 3,
   "id": "89d12f43",
   "metadata": {},
   "outputs": [
    {
     "data": {
      "text/plain": [
       "datetime.datetime(2022, 10, 13, 14, 24, 42, 894362)"
      ]
     },
     "execution_count": 3,
     "metadata": {},
     "output_type": "execute_result"
    }
   ],
   "source": [
    "#datetime모듈을 임폴트\n",
    "import datetime\n",
    "datetime.datetime.now()     #모듈 불러오기"
   ]
  },
  {
   "cell_type": "code",
   "execution_count": 9,
   "id": "e52ff71a",
   "metadata": {},
   "outputs": [
    {
     "name": "stdout",
     "output_type": "stream",
     "text": [
      "2022-10-13\n",
      "<class 'datetime.date'>\n"
     ]
    },
    {
     "data": {
      "text/plain": [
       "13"
      ]
     },
     "execution_count": 9,
     "metadata": {},
     "output_type": "execute_result"
    }
   ],
   "source": [
    "today=datetime.date.today()\n",
    "print(today)\n",
    "today\n",
    "print(type(today))\n",
    "today.year\n",
    "today.month\n",
    "today.day\n"
   ]
  },
  {
   "cell_type": "code",
   "execution_count": 10,
   "id": "46436502",
   "metadata": {},
   "outputs": [
    {
     "data": {
      "text/plain": [
       "['MAXYEAR',\n",
       " 'MINYEAR',\n",
       " '__all__',\n",
       " '__builtins__',\n",
       " '__cached__',\n",
       " '__doc__',\n",
       " '__file__',\n",
       " '__loader__',\n",
       " '__name__',\n",
       " '__package__',\n",
       " '__spec__',\n",
       " 'date',\n",
       " 'datetime',\n",
       " 'datetime_CAPI',\n",
       " 'sys',\n",
       " 'time',\n",
       " 'timedelta',\n",
       " 'timezone',\n",
       " 'tzinfo']"
      ]
     },
     "execution_count": 10,
     "metadata": {},
     "output_type": "execute_result"
    }
   ],
   "source": [
    "dir(datetime)"
   ]
  },
  {
   "cell_type": "code",
   "execution_count": 11,
   "id": "365d5e2e",
   "metadata": {},
   "outputs": [
    {
     "data": {
      "text/plain": [
       "datetime.datetime(2022, 12, 25, 14, 34, 26, 750344)"
      ]
     },
     "execution_count": 11,
     "metadata": {},
     "output_type": "execute_result"
    }
   ],
   "source": [
    "#replce()메소드\n",
    "start_time=datetime.datetime.now()\n",
    "start_time.replace(month=12,day=25)"
   ]
  },
  {
   "cell_type": "code",
   "execution_count": 59,
   "id": "d1380c1b",
   "metadata": {},
   "outputs": [
    {
     "name": "stdout",
     "output_type": "stream",
     "text": [
      "오늘의 날짜 : 2022년 10월 13일\n",
      "현재시간 : 오후 4시 40분 7초\n"
     ]
    }
   ],
   "source": [
    "#lap 7-1 \n",
    "import datetime\n",
    "today=datetime.datetime.now()\n",
    "print('오늘의 날짜 : {}년 {}월 {}일'.format(today.year,today.month,today.day))\n",
    "\n",
    "if today.hour>12:\n",
    "    hour2 = today.hour-12\n",
    "    c='오후'\n",
    "else:\n",
    "    hour2= today.hour\n",
    "    c='오전'\n",
    "\n",
    "\n",
    "print('현재시간 :','{} {}시 {}분 {}초'.format(c, hour2,today.minute,today.second))"
   ]
  },
  {
   "cell_type": "code",
   "execution_count": 31,
   "id": "299e3e0f",
   "metadata": {},
   "outputs": [
    {
     "name": "stdout",
     "output_type": "stream",
     "text": [
      "오늘은 2022년 10월 13일입니다.\n",
      "다음 크리스마스 까지는 72일 8시간 남았습니다.\n"
     ]
    }
   ],
   "source": [
    "#\n",
    "import datetime as dt\n",
    "today=dt.date.today()\n",
    "print('오늘은 {}년 {}월 {}일입니다.'.format(today.year,today.month,today.day))\n",
    "xMas=dt.datetime(2022,12,25)\n",
    "time_gap=xMas-dt.datetime.now()\n",
    "print('다음 크리스마스 까지는 {}일 {}시간 남았습니다.'.format(time_gap.days,time_gap.seconds//3600))"
   ]
  },
  {
   "cell_type": "code",
   "execution_count": 63,
   "id": "a779de5a",
   "metadata": {},
   "outputs": [
    {
     "name": "stdout",
     "output_type": "stream",
     "text": [
      "내가 태어난 날= 1999-06-13 00:00:00\n",
      "10000일 후= 2026-10-29 00:00:00\n"
     ]
    }
   ],
   "source": [
    "#내가 태어난 날 이후로 10000일 되는 날 언제인지 찾아라 과제\n",
    "import datetime as dt\n",
    "print('내가 태어난 날=',dt.datetime(1999,6,13))\n",
    "만일=dt.timedelta(days=10000)\n",
    "더하기_만일=dt.datetime(1999,6,13)+만일\n",
    "print('10000일 후=',더하기_만일)"
   ]
  },
  {
   "cell_type": "code",
   "execution_count": null,
   "id": "da526188",
   "metadata": {},
   "outputs": [],
   "source": [
    "# 유명한 파이썬 패키지 5개 찾기 어디에 쓰이는지 샘플코드 이걸로 뭘 하고 싶다 워드로 써내라... pandas numpy 구글에 best of python package\n"
   ]
  },
  {
   "cell_type": "code",
   "execution_count": 16,
   "id": "feffae6f",
   "metadata": {},
   "outputs": [
    {
     "name": "stdout",
     "output_type": "stream",
     "text": [
      "에폭 이후의 시간= 1665642992.3217926\n"
     ]
    }
   ],
   "source": [
    "import time \n",
    "seconds=time.time()\n",
    "print('에폭 이후의 시간=',seconds)"
   ]
  },
  {
   "cell_type": "code",
   "execution_count": 18,
   "id": "433fc795",
   "metadata": {},
   "outputs": [
    {
     "name": "stdout",
     "output_type": "stream",
     "text": [
      "2022-10-13 15:40:21\n"
     ]
    }
   ],
   "source": [
    "import time\n",
    "unix_timestamp=time.time()\n",
    "local_time=time.localtime(unix_timestamp)\n",
    "print(time.strftime('%Y-%m-%d %H:%M:%S',local_time))"
   ]
  },
  {
   "cell_type": "code",
   "execution_count": 19,
   "id": "5987e388",
   "metadata": {},
   "outputs": [
    {
     "name": "stdout",
     "output_type": "stream",
     "text": [
      "바로 출력되는 구문.\n",
      "4.5초 후 출력되는 구문.\n"
     ]
    }
   ],
   "source": [
    "import time\n",
    "print(\"바로 출력되는 구문.\")\n",
    "time.sleep(4.5)\n",
    "print(\"4.5초 후 출력되는 구문.\")"
   ]
  },
  {
   "cell_type": "code",
   "execution_count": 100,
   "id": "0a1833e4",
   "metadata": {},
   "outputs": [
    {
     "name": "stdout",
     "output_type": "stream",
     "text": [
      "55\n",
      "1에서 10까지의 합을 구하고 출력하는 시간 : 0.0000초\n"
     ]
    }
   ],
   "source": [
    "import time\n",
    "start_time=time.time()\n",
    "print(1+2+3+4+5+6+7+8+9+10)\n",
    "\n",
    "end_time=time.time()\n",
    "gap=end_time-start_time\n",
    "print('1에서 10까지의 합을 구하고 출력하는 시간 :{:7.4f}초'.format(gap))"
   ]
  },
  {
   "cell_type": "code",
   "execution_count": 40,
   "id": "31d59a1c",
   "metadata": {},
   "outputs": [
    {
     "data": {
      "text/plain": [
       "2"
      ]
     },
     "execution_count": 40,
     "metadata": {},
     "output_type": "execute_result"
    }
   ],
   "source": [
    "import random as rd\n",
    "rd.random()\n",
    "rd.random()\n",
    "rd.random()\n",
    "rd.random()\n",
    "rd.randrange(1,7)\n",
    "rd.randrange(1,7)\n",
    "rd.randrange(1,10,2)  #1이상 10미만 정수 중 2의 배수를 반환함\n",
    "rd.randint(1,10)"
   ]
  },
  {
   "cell_type": "code",
   "execution_count": 99,
   "id": "cb339642",
   "metadata": {},
   "outputs": [
    {
     "name": "stdout",
     "output_type": "stream",
     "text": [
      "a 주사위는 3,b 주사위는 3\n",
      "a 주사위는 1,b 주사위는 5\n",
      "b승!\n"
     ]
    }
   ],
   "source": [
    "# a,b라는 사람이 주사위 게임을 하는데 randrange가지고 누구 한명 이길떄까지  코드 과제\n",
    "import random as rd\n",
    "a,b=1,1\n",
    "\n",
    "while (a==b):\n",
    "    a=rd.randrange(1,7)\n",
    "    b=rd.randrange(1,7)\n",
    "    print('a 주사위는 {},b 주사위는 {}'.format(a,b))\n",
    "    if (a<b) :\n",
    "        print('b승!')\n",
    "    elif a>b:\n",
    "        print('a승!')       \n",
    "       \n",
    "\n"
   ]
  },
  {
   "cell_type": "code",
   "execution_count": 45,
   "id": "4f2a5f1d",
   "metadata": {},
   "outputs": [
    {
     "data": {
      "text/plain": [
       "[50, 20, 10]"
      ]
     },
     "execution_count": 45,
     "metadata": {},
     "output_type": "execute_result"
    }
   ],
   "source": [
    "import random as rd\n",
    "numlist=[10,20,30,40,50]\n",
    "rd.shuffle(numlist)\n",
    "numlist\n",
    "rd.choice(numlist)\n",
    "rd.sample(numlist,3)"
   ]
  },
  {
   "cell_type": "code",
   "execution_count": 54,
   "id": "550e9e54",
   "metadata": {},
   "outputs": [
    {
     "name": "stdout",
     "output_type": "stream",
     "text": [
      "0에서 100이하의 정후 중에서 5의 배수\n",
      "[70, 45, 60]\n",
      "1에서 10사이의 임의의 정수 : [6, 5, 9]\n"
     ]
    }
   ],
   "source": [
    "#lap 7-5.1\n",
    "import random as rd\n",
    "a=[]\n",
    "for i in range(101):\n",
    "    if i%5==0:\n",
    "        a.append(i)\n",
    "b=rd.sample(a,3)  \n",
    "print('0에서 100이하의 정수 중에서 5의 배수')\n",
    "print(b)\n",
    "\n",
    "#lap 7-5.2\n",
    "c=[]\n",
    "for i in range(1,11):\n",
    "    c.append(i)\n",
    "print('1에서 10사이의 임의의 정수 :',rd.sample(c,3))    "
   ]
  },
  {
   "cell_type": "code",
   "execution_count": 2,
   "id": "0934c4fe",
   "metadata": {},
   "outputs": [
    {
     "name": "stdout",
     "output_type": "stream",
     "text": [
      "이번주 로또번호는 : [4, 5, 18, 21, 33, 37]\n"
     ]
    }
   ],
   "source": [
    "#로또번호 만들기 과제\n",
    "import random as rd\n",
    "a=[]\n",
    "for i in range(1,46):\n",
    "    a.append(i)\n",
    "rd.shuffle(a)\n",
    "b=a[:6]\n",
    "b.sort()\n",
    "\n",
    "print('이번주 로또번호는 :',b)"
   ]
  },
  {
   "cell_type": "code",
   "execution_count": null,
   "id": "ac607e88",
   "metadata": {},
   "outputs": [],
   "source": []
  },
  {
   "cell_type": "code",
   "execution_count": 103,
   "id": "c8dca7c3",
   "metadata": {},
   "outputs": [
    {
     "name": "stdout",
     "output_type": "stream",
     "text": [
      "오늘의 날짜 : 2022년 10월 17일\n",
      "현재 시간: 오전 1시 0분 37초\n"
     ]
    }
   ],
   "source": [
    "#lap 7-1\n",
    "import datetime as dt\n",
    "today=dt.datetime.now()\n",
    "print('오늘의 날짜 : {}년 {}월 {}일'.format(today.year,today.month,today.day))\n",
    "\n",
    "if today.year>12:\n",
    "    year2=today.year\n",
    "    c='오전'\n",
    "else:\n",
    "    year2=today.year-12\n",
    "    c='오후'\n",
    "    \n",
    "print('현재 시간: {} {}시 {}분 {}초'.format(c,today.hour,today.minute,today.second))"
   ]
  },
  {
   "cell_type": "code",
   "execution_count": 111,
   "id": "badbc7c6",
   "metadata": {},
   "outputs": [
    {
     "name": "stdout",
     "output_type": "stream",
     "text": [
      "오늘의 날짜 : 2022년 10월 17일\n",
      "다음 크리스마스까지는 1165일 0시간 남았습니다.\n",
      "\n",
      "오늘의 날짜 : 2022년 10월 17일\n",
      "2036년 새해 까지는 4824일 0시간 남았습니다.\n",
      "\n",
      "오늘의 날짜 : 2022년 10월 17일\n",
      "2023년 생일까지는 239일 0시간 남았습니다.\n"
     ]
    }
   ],
   "source": [
    "#lap 7-2.1\n",
    "import datetime as dt\n",
    "today=dt.date.today()\n",
    "print('오늘의 날짜 : {}년 {}월 {}일'.format(today.year,today.month,today.day))\n",
    "\n",
    "xMas=dt.date(2025,12,25)\n",
    "time_gap=xMas-today\n",
    "print('다음 크리스마스까지는 {}일 {}시간 남았습니다.'.format(time_gap.days,time_gap.seconds//3600))\n",
    "\n",
    "print()\n",
    "#lap 7-2.2\n",
    "import datetime as dt\n",
    "today=dt.date.today()\n",
    "print('오늘의 날짜 : {}년 {}월 {}일'.format(today.year,today.month,today.day))\n",
    "\n",
    "xMas=dt.date(2036,1,1)\n",
    "time_gap=xMas-today\n",
    "print('2036년 새해 까지는 {}일 {}시간 남았습니다.'.format(time_gap.days,time_gap.seconds//3600))\n",
    "\n",
    "print()\n",
    "#lap 7-2.3\n",
    "import datetime as dt\n",
    "today=dt.date.today()\n",
    "print('오늘의 날짜 : {}년 {}월 {}일'.format(today.year,today.month,today.day))\n",
    "\n",
    "xMas=dt.date(2023,6,13)\n",
    "time_gap=xMas-today\n",
    "print('2023년 생일까지는 {}일 {}시간 남았습니다.'.format(time_gap.days,time_gap.seconds//3600))"
   ]
  },
  {
   "cell_type": "code",
   "execution_count": 14,
   "id": "6cadcbba",
   "metadata": {},
   "outputs": [
    {
     "name": "stdout",
     "output_type": "stream",
     "text": [
      "1000일 후= 2025-07-13\n",
      "\n",
      "처음으로 사귄 연도와 월, 일을 입력하시오 :2019 3 30\n",
      "100일 기념일은 : 2019년 7월 8일입니다\n"
     ]
    }
   ],
   "source": [
    "#lap 7-3.1\n",
    "import datetime as dt\n",
    "\n",
    "a=dt.timedelta(days=1000)\n",
    "plus1000day=dt.date.today()+a\n",
    "\n",
    "print('1000일 후=',plus1000day)\n",
    "\n",
    "print()\n",
    "#lap 7-3.2\n",
    "a=input('처음으로 사귄 연도와 월, 일을 입력하시오 :').split( )\n",
    "b=[]\n",
    "   \n",
    "for i in a:\n",
    "    b.append(int(i))\n",
    "\n",
    "year,month,day=b    \n",
    "\n",
    "d=dt.timedelta(days=99)\n",
    "e=dt.datetime(year,month,day)+d\n",
    "\n",
    "print('100일 기념일은 : {}년 {}월 {}일입니다'. format(e.year,e.month,e.day))"
   ]
  },
  {
   "cell_type": "code",
   "execution_count": 32,
   "id": "5c4394d5",
   "metadata": {},
   "outputs": [
    {
     "name": "stdout",
     "output_type": "stream",
     "text": [
      "4** 2=       16.0\n",
      "4** 3=       64.0\n",
      "4** 4=      256.0\n",
      "4** 5=     1024.0\n",
      "4** 6=     4096.0\n",
      "4** 7=    16384.0\n",
      "4** 8=    65536.0\n",
      "4** 9=   262144.0\n",
      "4**10=  1048576.0\n",
      "\n",
      "  0 degree = 0.000radian\n",
      " 10 degree = 0.175radian\n",
      " 20 degree = 0.349radian\n",
      " 30 degree = 0.524radian\n",
      " 40 degree = 0.698radian\n",
      " 50 degree = 0.873radian\n",
      " 60 degree = 1.047radian\n",
      " 70 degree = 1.222radian\n",
      " 80 degree = 1.396radian\n",
      " 90 degree = 1.571radian\n",
      "100 degree = 1.745radian\n",
      "110 degree = 1.920radian\n",
      "120 degree = 2.094radian\n",
      "130 degree = 2.269radian\n",
      "140 degree = 2.443radian\n",
      "150 degree = 2.618radian\n",
      "160 degree = 2.793radian\n",
      "170 degree = 2.967radian\n",
      "180 degree = 3.142radian\n",
      "\n",
      "sin(  0) =  0.00\n",
      "sin( 10) =  0.17\n",
      "sin( 20) =  0.34\n",
      "sin( 30) =  0.50\n",
      "sin( 40) =  0.64\n",
      "sin( 50) =  0.77\n",
      "sin( 60) =  0.87\n",
      "sin( 70) =  0.94\n",
      "sin( 80) =  0.98\n",
      "sin( 90) =  1.00\n",
      "sin(100) =  0.98\n",
      "sin(110) =  0.94\n",
      "sin(120) =  0.87\n",
      "sin(130) =  0.77\n",
      "sin(140) =  0.64\n",
      "sin(150) =  0.50\n",
      "sin(160) =  0.34\n",
      "sin(170) =  0.17\n",
      "sin(180) =  0.00\n"
     ]
    }
   ],
   "source": [
    "#lap 7-4.1\n",
    "import math as m\n",
    "for i in range(2,11):\n",
    "    print('4**{:2d}= {:10.1f}'.format(i,m.pow(4,i)))\n",
    "\n",
    "print()\n",
    "#lap 7-4.2\n",
    "for i in range(0,181,10):\n",
    "    print('{:3d} degree = {:5.3f}radian'.format(i,m.radians(i)))\n",
    "\n",
    "print()\n",
    "#lap 7-4.3\n",
    "for i in range(0,181,10):\n",
    "    print('sin({:3d}) = {:5.2f}'.format(i,m.sin(m.radians(i))))"
   ]
  },
  {
   "cell_type": "code",
   "execution_count": 7,
   "id": "db92f2d8",
   "metadata": {},
   "outputs": [
    {
     "name": "stdout",
     "output_type": "stream",
     "text": [
      "0에서 100이하의 정수 중에서 5의 배수 [70, 80, 75]\n",
      "1에서 10사이의 임의의 정수 : [6, 7, 1]\n"
     ]
    }
   ],
   "source": [
    "#lap 7-5.1\n",
    "import random as rd\n",
    "a=[]\n",
    "for i in range(100):\n",
    "    a.append(rd.randrange(0,101,5))\n",
    "    \n",
    "print('0에서 100이하의 정수 중에서 5의 배수',rd.sample(a,3))    \n",
    "\n",
    "\n",
    "#lap 7-5.2\n",
    "b=list(range(1,11))\n",
    "print('1에서 10사이의 임의의 정수 :',rd.sample(b,3))"
   ]
  },
  {
   "cell_type": "code",
   "execution_count": 10,
   "id": "fa4b3e71",
   "metadata": {},
   "outputs": [
    {
     "name": "stdout",
     "output_type": "stream",
     "text": [
      "이번주 추천 로또번호는\n",
      "[8, 22, 23, 25, 29, 32]\n",
      "[4, 21, 24, 38, 39, 41]\n",
      "[10, 11, 13, 23, 28, 45]\n",
      "[16, 22, 27, 35, 40, 42]\n",
      "[1, 7, 30, 31, 36, 37]\n",
      "이번주 로또번호 + 보너스\n",
      "[9, 13, 21, 29, 32, 33] + [41]\n"
     ]
    }
   ],
   "source": [
    "#lap 7-6.1\n",
    "import random as rd\n",
    "a=list(range(1,46))\n",
    "print('이번주 추천 로또번호는')\n",
    "for i in range(5):\n",
    "    b=rd.sample(a,6)\n",
    "    b.sort()\n",
    "    print(b)\n",
    "\n",
    "#lap 7-6.2\n",
    "import random as rd\n",
    "c=list(range(1,46))\n",
    "d=rd.sample(c,6)\n",
    "e=rd.choice(c)\n",
    "f=[]\n",
    "f.append(e)\n",
    "d.sort()\n",
    "print('이번주 로또번호 + 보너스')\n",
    "print(d,'+',f)"
   ]
  },
  {
   "cell_type": "code",
   "execution_count": null,
   "id": "10eb4be8",
   "metadata": {},
   "outputs": [],
   "source": []
  }
 ],
 "metadata": {
  "kernelspec": {
   "display_name": "Python 3 (ipykernel)",
   "language": "python",
   "name": "python3"
  },
  "language_info": {
   "codemirror_mode": {
    "name": "ipython",
    "version": 3
   },
   "file_extension": ".py",
   "mimetype": "text/x-python",
   "name": "python",
   "nbconvert_exporter": "python",
   "pygments_lexer": "ipython3",
   "version": "3.9.12"
  }
 },
 "nbformat": 4,
 "nbformat_minor": 5
}
