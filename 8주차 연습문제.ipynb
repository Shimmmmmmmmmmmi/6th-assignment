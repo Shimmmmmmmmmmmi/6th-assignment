{
 "cells": [
  {
   "cell_type": "code",
   "execution_count": 29,
   "id": "b34f213d",
   "metadata": {},
   "outputs": [
    {
     "name": "stdout",
     "output_type": "stream",
     "text": [
      "error: [Errno 13] Permission denied: 'greet.txt'\n"
     ]
    }
   ],
   "source": [
    "#1\n",
    "try:\n",
    "    f=open('greet.txt','w')\n",
    "    f.write(\"\"\"Hi, everyone.\\nWelcome to Python.\"\"\")\n",
    "    f.close()\n",
    "except Exception as e:\n",
    "    print('error:',e)"
   ]
  },
  {
   "cell_type": "code",
   "execution_count": 41,
   "id": "2aef735d",
   "metadata": {},
   "outputs": [],
   "source": [
    "#2.1\n",
    "f=open('number1to10.txt','w+')\n",
    "f.write('1\\n2\\n3\\n4\\n5\\n6\\n7\\n8\\n9\\n10')\n",
    "f.close()\n",
    "f2=open('number1to10.txt','r')\n",
    "f1=open('nuberby10.txt','a+')\n",
    "f1.close()\n",
    "for i in range(10):\n",
    "    s=int(f2.readline())\n",
    "    k=10\n",
    "    l=s*k\n",
    "    \n",
    "    f1=open('nuberby10.txt','a+')\n",
    "    f1.write(str(l))\n",
    "    f1.write('\\n')\n",
    "    \n",
    "    \n",
    "f2.close()\n",
    "f1.close()      \n",
    "    \n",
    "    \n",
    "#2.2\n",
    "f=open('number1to10.txt','r')\n",
    "f1=open('nuberby10.txt','r')\n",
    "f2=open('magnet.txt','w')\n",
    "for i in range(10):\n",
    "    s=f.readline().rstrip()\n",
    "    t=f1.readline().rstrip()\n",
    "    f2.write(s)\n",
    "    f2.write(':')\n",
    "    f2.write(t)\n",
    "    f2.write('\\n')\n",
    "    \n",
    "f.close()    \n",
    "f1.close()    \n",
    "f2.close()    "
   ]
  },
  {
   "cell_type": "code",
   "execution_count": 2,
   "id": "6d811c5e",
   "metadata": {},
   "outputs": [
    {
     "name": "stdout",
     "output_type": "stream",
     "text": [
      "error: [Errno 13] Permission denied: 'my_hollo.txt'\n"
     ]
    }
   ],
   "source": [
    "#3\n",
    "try:\n",
    "    f=open('my_hollo.txt','w')\n",
    "    f.write(\"Hello Python\")\n",
    "    f.close()\n",
    "except Exception as e:\n",
    "    print('error:',e)\n"
   ]
  },
  {
   "cell_type": "code",
   "execution_count": 6,
   "id": "4bc637bf",
   "metadata": {},
   "outputs": [],
   "source": [
    "#5.1\n",
    "import random as r\n",
    "with open('randint.txt','w') as f:\n",
    "    \n",
    "    for i in range(30):\n",
    "        s=r.randint(1,10)\n",
    "        f.write(str(s))\n",
    "        f.write(' ')\n"
   ]
  },
  {
   "cell_type": "code",
   "execution_count": 48,
   "id": "0c0245cf",
   "metadata": {},
   "outputs": [
    {
     "name": "stdout",
     "output_type": "stream",
     "text": [
      "1 : 2개\n",
      "2 : 3개\n",
      "3 : 5개\n",
      "4 : 5개\n",
      "5 : 4개\n",
      "6 : 3개\n",
      "7 : 3개\n",
      "8 : 3개\n",
      "9 : 1개\n",
      "10 : 1개\n"
     ]
    }
   ],
   "source": [
    "#5.2\n",
    "with open('randint.txt','r') as f:\n",
    "    s=f.readline()\n",
    "    a=s.split(' ')\n",
    "    b=[]\n",
    "    c=[]\n",
    "    d=[]\n",
    "   \n",
    "    for j in a:\n",
    "        if (j not in b) and (j!=''):\n",
    "            b.append(j)\n",
    "        if (j!=''):\n",
    "             d.append(int(j)) \n",
    "    for k in b:\n",
    "        c.append(int(k))\n",
    "    c.sort()\n",
    "    \n",
    "    for i in c:\n",
    "        k=d.count(i)\n",
    "        print('{} : {}개'.format(i,k))    \n",
    "       \n",
    "       "
   ]
  },
  {
   "cell_type": "code",
   "execution_count": 51,
   "id": "13cf8236",
   "metadata": {},
   "outputs": [
    {
     "name": "stdout",
     "output_type": "stream",
     "text": [
      "두 수를 입력하시오:ㅗ5\n",
      "정수를 입력하세요\n",
      "두 수를 입력하시오:2 0\n",
      "0으로 나누는 오류\n"
     ]
    }
   ],
   "source": [
    "#8.1\n",
    "try:\n",
    "    a,b=input('두 수를 입력하시오:').split() \n",
    "    result=int(a)*int(b)\n",
    "except ValueError:\n",
    "    print('정수를 입력하세요')\n",
    "#8.2\n",
    "try:\n",
    "    a,b=input('두 수를 입력하시오:').split(\" \") \n",
    "    result=int(a)/int(b)\n",
    "except ZeroDivisionError:\n",
    "    print('0으로 나누는 오류')\n"
   ]
  },
  {
   "cell_type": "code",
   "execution_count": 53,
   "id": "f029cace",
   "metadata": {},
   "outputs": [
    {
     "name": "stdout",
     "output_type": "stream",
     "text": [
      "a_list: [200, 300, 400]\n",
      "구하고자 하는 값의 인덱스를 0,1,2 중에서 입력하시오 :6\n",
      "0,1,2 중에 입력하세요\n"
     ]
    }
   ],
   "source": [
    "#8.3\n",
    "try:\n",
    "    a_list=[200,300,400]\n",
    "    print('a_list:',a_list)\n",
    "    idx=int(input('구하고자 하는 값의 인덱스를 0,1,2 중에서 입력하시오 :'))\n",
    "    result=a_list[idx]\n",
    "    print('결과:',result)\n",
    "except IndexError:\n",
    "    print('0,1,2 중에 입력하세요')"
   ]
  },
  {
   "cell_type": "code",
   "execution_count": 57,
   "id": "8405b8a7",
   "metadata": {},
   "outputs": [
    {
     "name": "stdout",
     "output_type": "stream",
     "text": [
      "읽어들일 파일 이름을 입력하세요:ㅎ\n",
      "파일이 존재하는지 확인하세요\n"
     ]
    }
   ],
   "source": [
    "try:\n",
    "    f_name=input('읽어들일 파일 이름을 입력하세요:')\n",
    "    in_file=open(f_name,'r')\n",
    "    buf=in_file.readline()\n",
    "    print(buf)\n",
    "except FileNotFoundError:\n",
    "    print('파일이 존재하는지 확인하세요')"
   ]
  },
  {
   "cell_type": "code",
   "execution_count": null,
   "id": "2782b157",
   "metadata": {},
   "outputs": [],
   "source": []
  }
 ],
 "metadata": {
  "kernelspec": {
   "display_name": "Python 3 (ipykernel)",
   "language": "python",
   "name": "python3"
  },
  "language_info": {
   "codemirror_mode": {
    "name": "ipython",
    "version": 3
   },
   "file_extension": ".py",
   "mimetype": "text/x-python",
   "name": "python",
   "nbconvert_exporter": "python",
   "pygments_lexer": "ipython3",
   "version": "3.9.12"
  }
 },
 "nbformat": 4,
 "nbformat_minor": 5
}
